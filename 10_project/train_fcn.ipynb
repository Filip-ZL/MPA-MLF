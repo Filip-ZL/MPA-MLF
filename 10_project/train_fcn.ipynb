{
 "cells": [
  {
   "cell_type": "code",
   "execution_count": 19,
   "metadata": {},
   "outputs": [],
   "source": [
    "from tensorflow.keras.callbacks import EarlyStopping\n",
    "from keras import layers\n",
    "from keras.preprocessing.image import ImageDataGenerator\n",
    "from sklearn.model_selection import train_test_split, KFold\n",
    "from sklearn.metrics import confusion_matrix, ConfusionMatrixDisplay\n",
    "import matplotlib.pyplot as plt\n",
    "import numpy as np\n",
    "import os\n",
    "from tqdm import tqdm\n",
    "import tensorflow as tf\n",
    "import pandas as pd\n",
    "from keras.utils import load_img"
   ]
  },
  {
   "attachments": {},
   "cell_type": "markdown",
   "metadata": {},
   "source": [
    "## Data Preparation"
   ]
  },
  {
   "cell_type": "code",
   "execution_count": 56,
   "metadata": {},
   "outputs": [
    {
     "name": "stderr",
     "output_type": "stream",
     "text": [
      "8279it [00:19, 423.17it/s]\n"
     ]
    }
   ],
   "source": [
    "import multiprocessing as mp\n",
    "from utils import load_data_mp\n",
    "\n",
    "csv_file = os.path.join('y_train.csv')\n",
    "files = [file for file in os.listdir(\"./Color/\") \\\n",
    "         if os.path.splitext(file)[1] != '.csv']\n",
    "# with tf.device(\"/device:GPU:0\"):\n",
    "#   images, labels = load_data(path, csv_file)\n",
    "pool = mp.Pool(8)\n",
    "items = list(tqdm(pool.imap(load_data_mp, files)))\n"
   ]
  },
  {
   "cell_type": "code",
   "execution_count": 24,
   "metadata": {},
   "outputs": [
    {
     "data": {
      "text/plain": [
       "array([[<Axes: title={'center': 'target'}>]], dtype=object)"
      ]
     },
     "execution_count": 24,
     "metadata": {},
     "output_type": "execute_result"
    },
    {
     "data": {
      "image/png": "[encoded data removed]",
      "text/plain": [
       "<Figure size 640x480 with 1 Axes>"
      ]
     },
     "metadata": {},
     "output_type": "display_data"
    }
   ],
   "source": [
    "csv_file = pd.read_csv('y_train.csv')\n",
    "csv_file.hist(column=\"target\", bins=3)"
   ]
  },
  {
   "cell_type": "code",
   "execution_count": 57,
   "metadata": {},
   "outputs": [],
   "source": [
    "images = np.asarray([item[0] for item in items])\n",
    "labels = np.asarray([item[1] for item in items])"
   ]
  },
  {
   "cell_type": "code",
   "execution_count": 58,
   "metadata": {},
   "outputs": [],
   "source": [
    "X_train, X_test, y_train, y_test = train_test_split(images, labels, test_size=0.1, random_state=42)"
   ]
  },
  {
   "attachments": {},
   "cell_type": "markdown",
   "metadata": {},
   "source": [
    "## Training Ist and IInd iteration"
   ]
  },
  {
   "cell_type": "code",
   "execution_count": 28,
   "metadata": {},
   "outputs": [],
   "source": [
    "EARLYSTOP = EarlyStopping(monitor='val_loss', mode='min', patience=10, verbose=1)"
   ]
  },
  {
   "cell_type": "code",
   "execution_count": 29,
   "metadata": {},
   "outputs": [],
   "source": [
    "def data_aug(X_train, X_test, y_train, y_test, train_batch_size, test_batch_size):\n",
    "    train_datagen = ImageDataGenerator(\n",
    "        rotation_range=40,\n",
    "        width_shift_range=0.2,\n",
    "        height_shift_range=0.2,\n",
    "        rescale=1.0/255,\n",
    "        shear_range=0.2,\n",
    "        zoom_range=0.2,\n",
    "        horizontal_flip=True,\n",
    "        fill_mode='nearest')\n",
    "    test_datagen = ImageDataGenerator(rescale=1.0/255)\n",
    "    train_batch = train_datagen.flow(X_train,y_train,batch_size=train_batch_size)\n",
    "    test_batch = test_datagen.flow(X_test,y_test,batch_size=test_batch_size)\n",
    "    return (train_batch,test_batch)"
   ]
  },
  {
   "cell_type": "code",
   "execution_count": 31,
   "metadata": {},
   "outputs": [
    {
     "name": "stdout",
     "output_type": "stream",
     "text": [
      "Model: \"sequential\"\n",
      "_________________________________________________________________\n",
      " Layer (type)                Output Shape              Param #   \n",
      "=================================================================\n",
      " resnet50v2 (Functional)     (None, 7, 7, 2048)        23564800  \n",
      "                                                                 \n",
      " additionalD1 (Conv2D)       (None, 7, 7, 32)          65568     \n",
      "                                                                 \n",
      " additionalDP (Dropout)      (None, 7, 7, 32)          0         \n",
      "                                                                 \n",
      " additionalD2 (Flatten)      (None, 1568)              0         \n",
      "                                                                 \n",
      " additionalFC2 (Dense)       (None, 64)                100416    \n",
      "                                                                 \n",
      " additionalSF1 (Dense)       (None, 3)                 195       \n",
      "                                                                 \n",
      "=================================================================\n",
      "Total params: 23,730,979\n",
      "Trainable params: 22,453,283\n",
      "Non-trainable params: 1,277,696\n",
      "_________________________________________________________________\n",
      "Training started fold - 1\n",
      "Epoch 1/100\n"
     ]
    },
    {
     "ename": "InvalidArgumentError",
     "evalue": "Graph execution error:\n\nDetected at node 'sequential/additionalD2/Reshape' defined at (most recent call last):\n    File \"c:\\Python38\\lib\\runpy.py\", line 194, in _run_module_as_main\n      return _run_code(code, main_globals, None,\n    File \"c:\\Python38\\lib\\runpy.py\", line 87, in _run_code\n      exec(code, run_globals)\n    File \"C:\\Users\\ffili\\AppData\\Roaming\\Python\\Python38\\site-packages\\ipykernel_launcher.py\", line 17, in <module>\n      app.launch_new_instance()\n    File \"C:\\Users\\ffili\\AppData\\Roaming\\Python\\Python38\\site-packages\\traitlets\\config\\application.py\", line 1043, in launch_instance\n      app.start()\n    File \"C:\\Users\\ffili\\AppData\\Roaming\\Python\\Python38\\site-packages\\ipykernel\\kernelapp.py\", line 725, in start\n      self.io_loop.start()\n    File \"C:\\Users\\ffili\\AppData\\Roaming\\Python\\Python38\\site-packages\\tornado\\platform\\asyncio.py\", line 215, in start\n      self.asyncio_loop.run_forever()\n    File \"c:\\Python38\\lib\\asyncio\\base_events.py\", line 570, in run_forever\n      self._run_once()\n    File \"c:\\Python38\\lib\\asyncio\\base_events.py\", line 1859, in _run_once\n      handle._run()\n    File \"c:\\Python38\\lib\\asyncio\\events.py\", line 81, in _run\n      self._context.run(self._callback, *self._args)\n    File \"C:\\Users\\ffili\\AppData\\Roaming\\Python\\Python38\\site-packages\\ipykernel\\kernelbase.py\", line 513, in dispatch_queue\n      await self.process_one()\n    File \"C:\\Users\\ffili\\AppData\\Roaming\\Python\\Python38\\site-packages\\ipykernel\\kernelbase.py\", line 502, in process_one\n      await dispatch(*args)\n    File \"C:\\Users\\ffili\\AppData\\Roaming\\Python\\Python38\\site-packages\\ipykernel\\kernelbase.py\", line 409, in dispatch_shell\n      await result\n    File \"C:\\Users\\ffili\\AppData\\Roaming\\Python\\Python38\\site-packages\\ipykernel\\kernelbase.py\", line 729, in execute_request\n      reply_content = await reply_content\n    File \"C:\\Users\\ffili\\AppData\\Roaming\\Python\\Python38\\site-packages\\ipykernel\\ipkernel.py\", line 422, in do_execute\n      res = shell.run_cell(\n    File \"C:\\Users\\ffili\\AppData\\Roaming\\Python\\Python38\\site-packages\\ipykernel\\zmqshell.py\", line 540, in run_cell\n      return super().run_cell(*args, **kwargs)\n    File \"C:\\Users\\ffili\\AppData\\Roaming\\Python\\Python38\\site-packages\\IPython\\core\\interactiveshell.py\", line 3006, in run_cell\n      result = self._run_cell(\n    File \"C:\\Users\\ffili\\AppData\\Roaming\\Python\\Python38\\site-packages\\IPython\\core\\interactiveshell.py\", line 3061, in _run_cell\n      result = runner(coro)\n    File \"C:\\Users\\ffili\\AppData\\Roaming\\Python\\Python38\\site-packages\\IPython\\core\\async_helpers.py\", line 129, in _pseudo_sync_runner\n      coro.send(None)\n    File \"C:\\Users\\ffili\\AppData\\Roaming\\Python\\Python38\\site-packages\\IPython\\core\\interactiveshell.py\", line 3266, in run_cell_async\n      has_raised = await self.run_ast_nodes(code_ast.body, cell_name,\n    File \"C:\\Users\\ffili\\AppData\\Roaming\\Python\\Python38\\site-packages\\IPython\\core\\interactiveshell.py\", line 3445, in run_ast_nodes\n      if await self.run_code(code, result, async_=asy):\n    File \"C:\\Users\\ffili\\AppData\\Roaming\\Python\\Python38\\site-packages\\IPython\\core\\interactiveshell.py\", line 3505, in run_code\n      exec(code_obj, self.user_global_ns, self.user_ns)\n    File \"C:\\Users\\ffili\\AppData\\Local\\Temp\\ipykernel_41240\\489021130.py\", line 39, in <module>\n      history = resnet.fit(train_batch,\n    File \"c:\\Python38\\lib\\site-packages\\keras\\utils\\traceback_utils.py\", line 65, in error_handler\n      return fn(*args, **kwargs)\n    File \"c:\\Python38\\lib\\site-packages\\keras\\engine\\training.py\", line 1564, in fit\n      tmp_logs = self.train_function(iterator)\n    File \"c:\\Python38\\lib\\site-packages\\keras\\engine\\training.py\", line 1160, in train_function\n      return step_function(self, iterator)\n    File \"c:\\Python38\\lib\\site-packages\\keras\\engine\\training.py\", line 1146, in step_function\n      outputs = model.distribute_strategy.run(run_step, args=(data,))\n    File \"c:\\Python38\\lib\\site-packages\\keras\\engine\\training.py\", line 1135, in run_step\n      outputs = model.train_step(data)\n    File \"c:\\Python38\\lib\\site-packages\\keras\\engine\\training.py\", line 993, in train_step\n      y_pred = self(x, training=True)\n    File \"c:\\Python38\\lib\\site-packages\\keras\\utils\\traceback_utils.py\", line 65, in error_handler\n      return fn(*args, **kwargs)\n    File \"c:\\Python38\\lib\\site-packages\\keras\\engine\\training.py\", line 557, in __call__\n      return super().__call__(*args, **kwargs)\n    File \"c:\\Python38\\lib\\site-packages\\keras\\utils\\traceback_utils.py\", line 65, in error_handler\n      return fn(*args, **kwargs)\n    File \"c:\\Python38\\lib\\site-packages\\keras\\engine\\base_layer.py\", line 1097, in __call__\n      outputs = call_fn(inputs, *args, **kwargs)\n    File \"c:\\Python38\\lib\\site-packages\\keras\\utils\\traceback_utils.py\", line 96, in error_handler\n      return fn(*args, **kwargs)\n    File \"c:\\Python38\\lib\\site-packages\\keras\\engine\\sequential.py\", line 410, in call\n      return super().call(inputs, training=training, mask=mask)\n    File \"c:\\Python38\\lib\\site-packages\\keras\\engine\\functional.py\", line 510, in call\n      return self._run_internal_graph(inputs, training=training, mask=mask)\n    File \"c:\\Python38\\lib\\site-packages\\keras\\engine\\functional.py\", line 667, in _run_internal_graph\n      outputs = node.layer(*args, **kwargs)\n    File \"c:\\Python38\\lib\\site-packages\\keras\\utils\\traceback_utils.py\", line 65, in error_handler\n      return fn(*args, **kwargs)\n    File \"c:\\Python38\\lib\\site-packages\\keras\\engine\\base_layer.py\", line 1097, in __call__\n      outputs = call_fn(inputs, *args, **kwargs)\n    File \"c:\\Python38\\lib\\site-packages\\keras\\utils\\traceback_utils.py\", line 96, in error_handler\n      return fn(*args, **kwargs)\n    File \"c:\\Python38\\lib\\site-packages\\keras\\layers\\reshaping\\flatten.py\", line 104, in call\n      return tf.reshape(inputs, flattened_shape)\nNode: 'sequential/additionalD2/Reshape'\nInput to reshape is a tensor with 73728 values, but the requested shape requires a multiple of 1568\n\t [[{{node sequential/additionalD2/Reshape}}]] [Op:__inference_train_function_22292]",
     "output_type": "error",
     "traceback": [
      "\u001b[1;31m---------------------------------------------------------------------------\u001b[0m",
      "\u001b[1;31mInvalidArgumentError\u001b[0m                      Traceback (most recent call last)",
      "Cell \u001b[1;32mIn[31], line 39\u001b[0m\n\u001b[0;32m     37\u001b[0m \u001b[39mprint\u001b[39m(\u001b[39mf\u001b[39m\u001b[39m\"\u001b[39m\u001b[39mTraining started fold - \u001b[39m\u001b[39m{\u001b[39;00m\u001b[39m \u001b[39mfold\u001b[39m \u001b[39m\u001b[39m}\u001b[39;00m\u001b[39m\"\u001b[39m)\n\u001b[0;32m     38\u001b[0m \u001b[39mwith\u001b[39;00m tf\u001b[39m.\u001b[39mdevice(\u001b[39m\"\u001b[39m\u001b[39m/GPU:0\u001b[39m\u001b[39m\"\u001b[39m):\n\u001b[1;32m---> 39\u001b[0m     history \u001b[39m=\u001b[39m resnet\u001b[39m.\u001b[39;49mfit(train_batch,\n\u001b[0;32m     40\u001b[0m                         batch_size\u001b[39m=\u001b[39;49m\u001b[39m64\u001b[39;49m,\n\u001b[0;32m     41\u001b[0m                         epochs\u001b[39m=\u001b[39;49m\u001b[39m100\u001b[39;49m,\n\u001b[0;32m     42\u001b[0m                         verbose\u001b[39m=\u001b[39;49m\u001b[39m1\u001b[39;49m,\n\u001b[0;32m     43\u001b[0m                         callbacks\u001b[39m=\u001b[39;49mcallbacks,\n\u001b[0;32m     44\u001b[0m                         validation_data\u001b[39m=\u001b[39;49mval_batch,\n\u001b[0;32m     45\u001b[0m                         )\n\u001b[0;32m     46\u001b[0m \u001b[39mprint\u001b[39m(\u001b[39mf\u001b[39m\u001b[39m\"\u001b[39m\u001b[39mTraining ended for fold: \u001b[39m\u001b[39m{\u001b[39;00m\u001b[39m \u001b[39mfold\u001b[39m \u001b[39m\u001b[39m}\u001b[39;00m\u001b[39m\"\u001b[39m)\n\u001b[0;32m     47\u001b[0m resnet\u001b[39m.\u001b[39msave(\u001b[39mf\u001b[39m\u001b[39m\"\u001b[39m\u001b[39m./outputs/model/resnet_model-\u001b[39m\u001b[39m{\u001b[39;00m\u001b[39m \u001b[39mfold\u001b[39m \u001b[39m\u001b[39m}\u001b[39;00m\u001b[39m\"\u001b[39m)\n",
      "File \u001b[1;32mc:\\Python38\\lib\\site-packages\\keras\\utils\\traceback_utils.py:70\u001b[0m, in \u001b[0;36mfilter_traceback.<locals>.error_handler\u001b[1;34m(*args, **kwargs)\u001b[0m\n\u001b[0;32m     67\u001b[0m     filtered_tb \u001b[39m=\u001b[39m _process_traceback_frames(e\u001b[39m.\u001b[39m__traceback__)\n\u001b[0;32m     68\u001b[0m     \u001b[39m# To get the full stack trace, call:\u001b[39;00m\n\u001b[0;32m     69\u001b[0m     \u001b[39m# `tf.debugging.disable_traceback_filtering()`\u001b[39;00m\n\u001b[1;32m---> 70\u001b[0m     \u001b[39mraise\u001b[39;00m e\u001b[39m.\u001b[39mwith_traceback(filtered_tb) \u001b[39mfrom\u001b[39;00m \u001b[39mNone\u001b[39m\n\u001b[0;32m     71\u001b[0m \u001b[39mfinally\u001b[39;00m:\n\u001b[0;32m     72\u001b[0m     \u001b[39mdel\u001b[39;00m filtered_tb\n",
      "File \u001b[1;32mc:\\Python38\\lib\\site-packages\\tensorflow\\python\\eager\\execute.py:54\u001b[0m, in \u001b[0;36mquick_execute\u001b[1;34m(op_name, num_outputs, inputs, attrs, ctx, name)\u001b[0m\n\u001b[0;32m     52\u001b[0m \u001b[39mtry\u001b[39;00m:\n\u001b[0;32m     53\u001b[0m   ctx\u001b[39m.\u001b[39mensure_initialized()\n\u001b[1;32m---> 54\u001b[0m   tensors \u001b[39m=\u001b[39m pywrap_tfe\u001b[39m.\u001b[39mTFE_Py_Execute(ctx\u001b[39m.\u001b[39m_handle, device_name, op_name,\n\u001b[0;32m     55\u001b[0m                                       inputs, attrs, num_outputs)\n\u001b[0;32m     56\u001b[0m \u001b[39mexcept\u001b[39;00m core\u001b[39m.\u001b[39m_NotOkStatusException \u001b[39mas\u001b[39;00m e:\n\u001b[0;32m     57\u001b[0m   \u001b[39mif\u001b[39;00m name \u001b[39mis\u001b[39;00m \u001b[39mnot\u001b[39;00m \u001b[39mNone\u001b[39;00m:\n",
      "\u001b[1;31mInvalidArgumentError\u001b[0m: Graph execution error:\n\nDetected at node 'sequential/additionalD2/Reshape' defined at (most recent call last):\n    File \"c:\\Python38\\lib\\runpy.py\", line 194, in _run_module_as_main\n      return _run_code(code, main_globals, None,\n    File \"c:\\Python38\\lib\\runpy.py\", line 87, in _run_code\n      exec(code, run_globals)\n    File \"C:\\Users\\ffili\\AppData\\Roaming\\Python\\Python38\\site-packages\\ipykernel_launcher.py\", line 17, in <module>\n      app.launch_new_instance()\n    File \"C:\\Users\\ffili\\AppData\\Roaming\\Python\\Python38\\site-packages\\traitlets\\config\\application.py\", line 1043, in launch_instance\n      app.start()\n    File \"C:\\Users\\ffili\\AppData\\Roaming\\Python\\Python38\\site-packages\\ipykernel\\kernelapp.py\", line 725, in start\n      self.io_loop.start()\n    File \"C:\\Users\\ffili\\AppData\\Roaming\\Python\\Python38\\site-packages\\tornado\\platform\\asyncio.py\", line 215, in start\n      self.asyncio_loop.run_forever()\n    File \"c:\\Python38\\lib\\asyncio\\base_events.py\", line 570, in run_forever\n      self._run_once()\n    File \"c:\\Python38\\lib\\asyncio\\base_events.py\", line 1859, in _run_once\n      handle._run()\n    File \"c:\\Python38\\lib\\asyncio\\events.py\", line 81, in _run\n      self._context.run(self._callback, *self._args)\n    File \"C:\\Users\\ffili\\AppData\\Roaming\\Python\\Python38\\site-packages\\ipykernel\\kernelbase.py\", line 513, in dispatch_queue\n      await self.process_one()\n    File \"C:\\Users\\ffili\\AppData\\Roaming\\Python\\Python38\\site-packages\\ipykernel\\kernelbase.py\", line 502, in process_one\n      await dispatch(*args)\n    File \"C:\\Users\\ffili\\AppData\\Roaming\\Python\\Python38\\site-packages\\ipykernel\\kernelbase.py\", line 409, in dispatch_shell\n      await result\n    File \"C:\\Users\\ffili\\AppData\\Roaming\\Python\\Python38\\site-packages\\ipykernel\\kernelbase.py\", line 729, in execute_request\n      reply_content = await reply_content\n    File \"C:\\Users\\ffili\\AppData\\Roaming\\Python\\Python38\\site-packages\\ipykernel\\ipkernel.py\", line 422, in do_execute\n      res = shell.run_cell(\n    File \"C:\\Users\\ffili\\AppData\\Roaming\\Python\\Python38\\site-packages\\ipykernel\\zmqshell.py\", line 540, in run_cell\n      return super().run_cell(*args, **kwargs)\n    File \"C:\\Users\\ffili\\AppData\\Roaming\\Python\\Python38\\site-packages\\IPython\\core\\interactiveshell.py\", line 3006, in run_cell\n      result = self._run_cell(\n    File \"C:\\Users\\ffili\\AppData\\Roaming\\Python\\Python38\\site-packages\\IPython\\core\\interactiveshell.py\", line 3061, in _run_cell\n      result = runner(coro)\n    File \"C:\\Users\\ffili\\AppData\\Roaming\\Python\\Python38\\site-packages\\IPython\\core\\async_helpers.py\", line 129, in _pseudo_sync_runner\n      coro.send(None)\n    File \"C:\\Users\\ffili\\AppData\\Roaming\\Python\\Python38\\site-packages\\IPython\\core\\interactiveshell.py\", line 3266, in run_cell_async\n      has_raised = await self.run_ast_nodes(code_ast.body, cell_name,\n    File \"C:\\Users\\ffili\\AppData\\Roaming\\Python\\Python38\\site-packages\\IPython\\core\\interactiveshell.py\", line 3445, in run_ast_nodes\n      if await self.run_code(code, result, async_=asy):\n    File \"C:\\Users\\ffili\\AppData\\Roaming\\Python\\Python38\\site-packages\\IPython\\core\\interactiveshell.py\", line 3505, in run_code\n      exec(code_obj, self.user_global_ns, self.user_ns)\n    File \"C:\\Users\\ffili\\AppData\\Local\\Temp\\ipykernel_41240\\489021130.py\", line 39, in <module>\n      history = resnet.fit(train_batch,\n    File \"c:\\Python38\\lib\\site-packages\\keras\\utils\\traceback_utils.py\", line 65, in error_handler\n      return fn(*args, **kwargs)\n    File \"c:\\Python38\\lib\\site-packages\\keras\\engine\\training.py\", line 1564, in fit\n      tmp_logs = self.train_function(iterator)\n    File \"c:\\Python38\\lib\\site-packages\\keras\\engine\\training.py\", line 1160, in train_function\n      return step_function(self, iterator)\n    File \"c:\\Python38\\lib\\site-packages\\keras\\engine\\training.py\", line 1146, in step_function\n      outputs = model.distribute_strategy.run(run_step, args=(data,))\n    File \"c:\\Python38\\lib\\site-packages\\keras\\engine\\training.py\", line 1135, in run_step\n      outputs = model.train_step(data)\n    File \"c:\\Python38\\lib\\site-packages\\keras\\engine\\training.py\", line 993, in train_step\n      y_pred = self(x, training=True)\n    File \"c:\\Python38\\lib\\site-packages\\keras\\utils\\traceback_utils.py\", line 65, in error_handler\n      return fn(*args, **kwargs)\n    File \"c:\\Python38\\lib\\site-packages\\keras\\engine\\training.py\", line 557, in __call__\n      return super().__call__(*args, **kwargs)\n    File \"c:\\Python38\\lib\\site-packages\\keras\\utils\\traceback_utils.py\", line 65, in error_handler\n      return fn(*args, **kwargs)\n    File \"c:\\Python38\\lib\\site-packages\\keras\\engine\\base_layer.py\", line 1097, in __call__\n      outputs = call_fn(inputs, *args, **kwargs)\n    File \"c:\\Python38\\lib\\site-packages\\keras\\utils\\traceback_utils.py\", line 96, in error_handler\n      return fn(*args, **kwargs)\n    File \"c:\\Python38\\lib\\site-packages\\keras\\engine\\sequential.py\", line 410, in call\n      return super().call(inputs, training=training, mask=mask)\n    File \"c:\\Python38\\lib\\site-packages\\keras\\engine\\functional.py\", line 510, in call\n      return self._run_internal_graph(inputs, training=training, mask=mask)\n    File \"c:\\Python38\\lib\\site-packages\\keras\\engine\\functional.py\", line 667, in _run_internal_graph\n      outputs = node.layer(*args, **kwargs)\n    File \"c:\\Python38\\lib\\site-packages\\keras\\utils\\traceback_utils.py\", line 65, in error_handler\n      return fn(*args, **kwargs)\n    File \"c:\\Python38\\lib\\site-packages\\keras\\engine\\base_layer.py\", line 1097, in __call__\n      outputs = call_fn(inputs, *args, **kwargs)\n    File \"c:\\Python38\\lib\\site-packages\\keras\\utils\\traceback_utils.py\", line 96, in error_handler\n      return fn(*args, **kwargs)\n    File \"c:\\Python38\\lib\\site-packages\\keras\\layers\\reshaping\\flatten.py\", line 104, in call\n      return tf.reshape(inputs, flattened_shape)\nNode: 'sequential/additionalD2/Reshape'\nInput to reshape is a tensor with 73728 values, but the requested shape requires a multiple of 1568\n\t [[{{node sequential/additionalD2/Reshape}}]] [Op:__inference_train_function_22292]"
     ]
    },
    {
     "data": {
      "image/png": "[encoded data removed]",
      "text/plain": [
       "<Figure size 1600x900 with 2 Axes>"
      ]
     },
     "metadata": {},
     "output_type": "display_data"
    }
   ],
   "source": [
    "optimizer = tf.keras.optimizers.Adam(learning_rate=0.001, decay=1e-6)\n",
    "\n",
    "kfold = KFold(n_splits=5, shuffle=True, random_state=42)\n",
    "fig, (fig1, fig2) = plt.subplots(1, 2, figsize=(16, 9))\n",
    "fold = 1\n",
    "\n",
    "for train, val in kfold.split(X_train, y_train):\n",
    "    \n",
    "    X_val = X_train[val].astype('float32')\n",
    "    X_train_f = X_train[train].astype('float32')\n",
    "    y_val = y_train[val]\n",
    "    y_train_f = y_train[train]\n",
    "    \n",
    "    train_batch, val_batch = data_aug(X_train_f, X_val, y_train_f, y_val, 64, 64)\n",
    "\n",
    "\n",
    "    base_model = tf.keras.applications.ResNet50V2(\n",
    "                                        include_top=False,\n",
    "                                        weights=\"imagenet\",\n",
    "                                        input_shape=(224, 224, 3),\n",
    "                                        classifier_activation=\"relu\",\n",
    "                                    )\n",
    "    for layer in base_model.layers[:80]: \n",
    "        layer.trainable = False\n",
    "    resnet = tf.keras.models.Sequential([\n",
    "                                base_model,\n",
    "                                tf.keras.layers.Conv2D(32, (1, 1), activation=\"relu\", name=\"additionalD1\"),\n",
    "                                tf.keras.layers.Dropout(0.25, name=\"additionalDP\"),\n",
    "                                tf.keras.layers.Flatten(name=\"additionalD2\"),\n",
    "                                tf.keras.layers.Dense(64, activation=\"relu\", name=\"additionalFC2\"),\n",
    "                                tf.keras.layers.Dense(3, activation=\"softmax\", name=\"additionalSF1\")\n",
    "                            ])\n",
    "    resnet.summary()\n",
    "    resnet.compile(optimizer=optimizer, loss='categorical_crossentropy', metrics='accuracy')\n",
    "\n",
    "    callbacks = [EARLYSTOP]\n",
    "    print(f\"Training started fold - { fold }\")\n",
    "    with tf.device(\"/GPU:0\"):\n",
    "        history = resnet.fit(train_batch,\n",
    "                            batch_size=64,\n",
    "                            epochs=100,\n",
    "                            verbose=1,\n",
    "                            callbacks=callbacks,\n",
    "                            validation_data=val_batch,\n",
    "                            )\n",
    "    print(f\"Training ended for fold: { fold }\")\n",
    "    resnet.save(f\"./outputs/model/resnet_model-{ fold }\")\n",
    "    acc = history.history[\"accuracy\"]\n",
    "    val_acc = history.history[\"val_accuracy\"]\n",
    "    loss = history.history[\"loss\"]\n",
    "    val_loss = history.history[\"val_loss\"]\n",
    "\n",
    "    fig1.plot(acc, label=f\"training acc fold-{ fold }\")\n",
    "    fig1.plot(val_acc, label=f\"val acc-{ fold }\")\n",
    "    fig1.set_title(f\"Training and validation accuracy per fold\")\n",
    "    fig1.legend()\n",
    "\n",
    "    fig2.plot(loss, label=f\"loss fold-{ fold }\")\n",
    "    fig2.plot(val_loss, label=f\"val loss-{ fold }\")\n",
    "    fig2.set_title(f\"Training and validation loss per fold\")\n",
    "    fig2.legend()\n",
    "\n",
    "    fold_matrice = pd.DataFrame(np.transpose([acc, val_acc, loss, val_loss]))\n",
    "    matrices = matrices.append(fold_matrice)\n",
    "    \n",
    "    fold += 1\n",
    "\n",
    "matrices.columns=['accuracy', 'val_accuracy', 'loss', 'val_loss']\n",
    "matrices.index.name = 'epochs'\n",
    "plt.show()"
   ]
  },
  {
   "cell_type": "code",
   "execution_count": 59,
   "metadata": {},
   "outputs": [],
   "source": [
    "def evaluate_model(model, test_batches, batch_size):\n",
    "    \"\"\"\n",
    "        Evaluate a trained model.\n",
    "    \"\"\"\n",
    "    # Evaluate model\n",
    "    predicted_values = model.predict(x = test_batches[\"X_test\"] / 255, batch_size=batch_size)\n",
    "    predicted_values = np.argmax(predicted_values, axis=1)\n",
    "    true_values = test_batches[\"y_test\"]\n",
    "    true_values = np.argmax(true_values, axis=1)\n",
    "\n",
    "    cm = confusion_matrix(true_values, predicted_values)\n",
    "    \n",
    "    disp = ConfusionMatrixDisplay(confusion_matrix=cm)\n",
    "\n",
    "    return cm, disp"
   ]
  },
  {
   "cell_type": "code",
   "execution_count": 60,
   "metadata": {},
   "outputs": [
    {
     "ename": "NameError",
     "evalue": "name 'matrices' is not defined",
     "output_type": "error",
     "traceback": [
      "\u001b[1;31m---------------------------------------------------------------------------\u001b[0m",
      "\u001b[1;31mNameError\u001b[0m                                 Traceback (most recent call last)",
      "Cell \u001b[1;32mIn[60], line 1\u001b[0m\n\u001b[1;32m----> 1\u001b[0m mean_matrices \u001b[39m=\u001b[39m matrices\u001b[39m.\u001b[39mgroupby(\u001b[39m'\u001b[39m\u001b[39mepochs\u001b[39m\u001b[39m'\u001b[39m)\u001b[39m.\u001b[39mmean()\n\u001b[0;32m      3\u001b[0m fig, (fig1, fig2) \u001b[39m=\u001b[39m plt\u001b[39m.\u001b[39msubplots(\u001b[39m1\u001b[39m, \u001b[39m2\u001b[39m)\n\u001b[0;32m      4\u001b[0m fig1\u001b[39m.\u001b[39mplot(mean_matrices[\u001b[39m'\u001b[39m\u001b[39maccuracy\u001b[39m\u001b[39m'\u001b[39m], label\u001b[39m=\u001b[39m\u001b[39mf\u001b[39m\u001b[39m\"\u001b[39m\u001b[39mtraining acc\u001b[39m\u001b[39m\"\u001b[39m)\n",
      "\u001b[1;31mNameError\u001b[0m: name 'matrices' is not defined"
     ]
    }
   ],
   "source": [
    "mean_matrices = matrices.groupby('epochs').mean()\n",
    "\n",
    "fig, (fig1, fig2) = plt.subplots(1, 2)\n",
    "fig1.plot(mean_matrices['accuracy'], label=f\"training acc\")\n",
    "fig1.plot(mean_matrices['val_accuracy'], label=f\"val acc\")\n",
    "fig1.set_title(\"Training and validation accuracy\")\n",
    "fig1.legend()\n",
    "\n",
    "fig2.plot(mean_matrices['loss'], label=f\"loss\")\n",
    "fig2.plot(mean_matrices['val_loss'], label=f\"val loss\")\n",
    "fig2.set_title(\"Training and validation loss\")\n",
    "fig2.legend()\n",
    "\n",
    "fig.savefig(os.path.join('./outputs/', 'learning_curves.png'))\n",
    "\n",
    "cm, disp = evaluate_model(resnet, {'X_test': X_test, 'y_test': y_test}, 64)\n",
    "disp.plot()"
   ]
  },
  {
   "attachments": {},
   "cell_type": "markdown",
   "metadata": {},
   "source": [
    "## Hyperparameter tuning"
   ]
  },
  {
   "cell_type": "code",
   "execution_count": 61,
   "metadata": {},
   "outputs": [],
   "source": [
    "import tensorflow as tf\n",
    "from keras import layers\n",
    "from keras.applications import ResNet50V2\n",
    "from keras.optimizers import Adam\n",
    "import keras_tuner as kt\n",
    "import keras"
   ]
  },
  {
   "cell_type": "code",
   "execution_count": 62,
   "metadata": {},
   "outputs": [],
   "source": [
    "def base_model_rn():\n",
    "\n",
    "    base_model = tf.keras.applications.ResNet50V2(\n",
    "                                        include_top=False,\n",
    "                                        weights=\"imagenet\",\n",
    "                                        input_shape=(224, 224, 3),\n",
    "                                        classifier_activation=\"relu\",\n",
    "                                    )\n",
    "    \n",
    "    return base_model"
   ]
  },
  {
   "cell_type": "code",
   "execution_count": 67,
   "metadata": {},
   "outputs": [],
   "source": [
    "def build_model(hp):\n",
    "\n",
    "    base_model = base_model_rn()\n",
    "\n",
    "    for layer in base_model.layers[:hp.Int('no_freezed_layers', min_value=0, max_value=20, step=1)]:\n",
    "        layer.trainable = False\n",
    "\n",
    "    x = base_model.output\n",
    "\n",
    "    for i in range(hp.Int('no_customized_layers', 1, 3)):\n",
    "        \n",
    "        if hp.Choice(f'layer_type_{i}', ['dense', 'conv2d']) == 'dense':\n",
    "            x = layers.Flatten()(x)\n",
    "            x = layers.Dense(hp.Int(f'no_dense_units_{i}', min_value=32, max_value=512, step=32))(x)\n",
    "            x = layers.Dropout(hp.Float(f'dropout_pct_dense_{i}', min_value=0.1, max_value=0.5, step=1))(x)\n",
    "        \n",
    "        else:\n",
    "            x = layers.Conv2D(hp.Int(f'no_conv_filters_{i}', min_value=32, max_value=256, step=32),\n",
    "                              hp.Int(f'kernel_size_{i}', min_value=3, max_value=7, step=2))(x)\n",
    "            x = layers.BatchNormalization()(x)\n",
    "            x = layers.MaxPooling2D(hp.Int(f'pool_size_{i}', min_value=2, max_value=4, step=1))(x)\n",
    "            x = layers.Dropout(hp.Float(f'dropout_pct_conv_{i}', min_value=0.1, max_value=0.5, step=0.1))(x)\n",
    "    \n",
    "    output = layers.Dense(3, activation='softmax')(x)\n",
    "\n",
    "    model = keras.models.Model(inputs=base_model.input, outputs=output)\n",
    "\n",
    "    optim = Adam(hp.Float('learning_rate', min_value=1e-4, max_value=0.001, sampling='log'))\n",
    "    model.compile(optimizer=optim, loss='categorical_crossentropy', metrics=['accuracy'])\n",
    "\n",
    "    return model"
   ]
  },
  {
   "cell_type": "code",
   "execution_count": 68,
   "metadata": {},
   "outputs": [
    {
     "name": "stdout",
     "output_type": "stream",
     "text": [
      "INFO:tensorflow:Reloading Tuner from tuner_classes\\hp_tuning_mlf\\tuner0.json\n"
     ]
    }
   ],
   "source": [
    "tuner = kt.RandomSearch(build_model,\n",
    "                        objective='val_accuracy',\n",
    "                        max_trials=7,\n",
    "                        seed=42,\n",
    "                        directory='tuner_classes',\n",
    "                        project_name='hp_tuning_mlf')"
   ]
  },
  {
   "cell_type": "code",
   "execution_count": 65,
   "metadata": {},
   "outputs": [],
   "source": [
    "X_train, X_val, y_train, y_val = train_test_split(X_train, y_train, test_size=0.2, random_state=42)"
   ]
  },
  {
   "cell_type": "code",
   "execution_count": null,
   "metadata": {},
   "outputs": [],
   "source": [
    "tuner.search(X_train, y_train,\n",
    "             epochs=20,\n",
    "             batch_size=64,\n",
    "             validation_data=(X_val, y_val))"
   ]
  },
  {
   "cell_type": "code",
   "execution_count": 8,
   "metadata": {},
   "outputs": [
    {
     "name": "stdout",
     "output_type": "stream",
     "text": [
      "3562\n"
     ]
    }
   ],
   "source": [
    "test_path = \"./Test/Color/\"\n",
    "print(len(os.listdir(test_path)))"
   ]
  },
  {
   "attachments": {},
   "cell_type": "markdown",
   "metadata": {},
   "source": [
    "## Evaluate results"
   ]
  },
  {
   "cell_type": "code",
   "execution_count": 70,
   "metadata": {},
   "outputs": [
    {
     "name": "stdout",
     "output_type": "stream",
     "text": [
      "26/26 [==============================] - 28s 1s/step\n"
     ]
    }
   ],
   "source": [
    "from sklearn.metrics import confusion_matrix, ConfusionMatrixDisplay\n",
    "from keras.models import load_model\n",
    "model = load_model('best_hps_model.h5')\n",
    "\n",
    "y_pred = model.predict(X_test, verbose=1)\n",
    "y_pred = np.argmax(y_pred, axis=1)"
   ]
  },
  {
   "cell_type": "code",
   "execution_count": 71,
   "metadata": {},
   "outputs": [],
   "source": [
    "y_test = np.argmax(y_test, axis=1)"
   ]
  },
  {
   "cell_type": "code",
   "execution_count": 74,
   "metadata": {},
   "outputs": [
    {
     "data": {
      "text/plain": [
       "<sklearn.metrics._plot.confusion_matrix.ConfusionMatrixDisplay at 0x25413978e20>"
      ]
     },
     "execution_count": 74,
     "metadata": {},
     "output_type": "execute_result"
    },
    {
     "data": {
      "image/png": "[encoded data removed]",
      "text/plain": [
       "<Figure size 640x480 with 2 Axes>"
      ]
     },
     "metadata": {},
     "output_type": "display_data"
    }
   ],
   "source": [
    "cm = confusion_matrix(y_test, y_pred)\n",
    "disp = ConfusionMatrixDisplay(cm, display_labels=['1', '2', '3'])\n",
    "disp.plot()"
   ]
  },
  {
   "cell_type": "code",
   "execution_count": 81,
   "metadata": {},
   "outputs": [],
   "source": [
    "from sklearn.metrics import f1_score, accuracy_score, roc_auc_score\n",
    "\n",
    "f1_res = f1_score(y_test, y_pred, average='macro')\n",
    "acc = accuracy_score(y_test, y_pred)"
   ]
  },
  {
   "cell_type": "code",
   "execution_count": 83,
   "metadata": {},
   "outputs": [
    {
     "name": "stdout",
     "output_type": "stream",
     "text": [
      "0.9761654416952883 0.9758454106280193\n"
     ]
    }
   ],
   "source": [
    "print(f1_res, acc)"
   ]
  },
  {
   "attachments": {},
   "cell_type": "markdown",
   "metadata": {},
   "source": [
    "## Kaggle preprocessing"
   ]
  },
  {
   "cell_type": "code",
   "execution_count": 40,
   "metadata": {},
   "outputs": [
    {
     "name": "stderr",
     "output_type": "stream",
     "text": [
      "\n",
      "\n",
      "\u001b[A\u001b[A\n",
      "\n",
      "\u001b[A\u001b[A\n",
      "\n",
      "\u001b[A\u001b[A\n",
      "\n",
      "\u001b[A\u001b[A\n",
      "\n",
      "\u001b[A\u001b[A\n",
      "\n",
      "\u001b[A\u001b[A\n",
      "\n",
      "\u001b[A\u001b[A\n",
      "\n",
      "\u001b[A\u001b[A\n",
      "\n",
      "\u001b[A\u001b[A\n",
      "\n",
      "\u001b[A\u001b[A\n",
      "\n",
      "\u001b[A\u001b[A\n",
      "\n",
      "\u001b[A\u001b[A\n",
      "\n",
      "\u001b[A\u001b[A\n",
      "\n",
      "\u001b[A\u001b[A\n",
      "\n",
      "\u001b[A\u001b[A\n",
      "\n",
      "\u001b[A\u001b[A\n",
      "\n",
      "\u001b[A\u001b[A\n",
      "\n",
      "\u001b[A\u001b[A\n",
      "\n",
      "\u001b[A\u001b[A\n",
      "\n",
      "\u001b[A\u001b[A\n",
      "\n",
      "\u001b[A\u001b[A\n",
      "\n",
      "\u001b[A\u001b[A\n",
      "\n",
      "\u001b[A\u001b[A\n",
      "\n",
      "\u001b[A\u001b[A\n",
      "\n",
      "\u001b[A\u001b[A\n",
      "\n",
      "\u001b[A\u001b[A\n",
      "\n",
      "\u001b[A\u001b[A\n",
      "\n",
      "\u001b[A\u001b[A\n",
      "\n",
      "\u001b[A\u001b[A\n",
      "\n",
      "\u001b[A\u001b[A\n",
      "\n",
      "\u001b[A\u001b[A\n",
      "\n",
      "\u001b[A\u001b[A\n",
      "\n",
      "\u001b[A\u001b[A\n",
      "\n",
      "\u001b[A\u001b[A\n",
      "\n",
      "\u001b[A\u001b[A\n",
      "\n",
      "\u001b[A\u001b[A\n",
      "\n",
      "\u001b[A\u001b[A\n",
      "\n",
      "\u001b[A\u001b[A\n",
      "\n",
      "3549it [00:09, 364.67it/s]\n"
     ]
    }
   ],
   "source": [
    "import multiprocessing as mp\n",
    "from utils import load_image\n",
    "# images = np.empty(shape=(len(os.listdir(test_path)), 224, 224, 3))\n",
    "\n",
    "# for image_path in tqdm(os.listdir(test_path)):\n",
    "#     image = load_img(os.path.join(test_path, image_path))\n",
    "#     image_arr = np.asarray(image)\n",
    "#     np.append(images, image_arr)\n",
    "files = [os.path.join(test_path, f\"img_{i}.png\") for i in range(3549)]\n",
    "pool = mp.Pool(8)\n",
    "items = list(tqdm(pool.imap(load_image, files)))"
   ]
  },
  {
   "cell_type": "code",
   "execution_count": 42,
   "metadata": {},
   "outputs": [],
   "source": [
    "images = np.asarray(items)"
   ]
  },
  {
   "cell_type": "code",
   "execution_count": 43,
   "metadata": {},
   "outputs": [
    {
     "data": {
      "text/plain": [
       "(3549, 224, 224, 3)"
      ]
     },
     "execution_count": 43,
     "metadata": {},
     "output_type": "execute_result"
    }
   ],
   "source": [
    "images.shape"
   ]
  },
  {
   "cell_type": "code",
   "execution_count": 2,
   "metadata": {},
   "outputs": [],
   "source": [
    "from keras.models import load_model\n",
    "\n",
    "model = load_model(r\"./best_hps_model.h5\")\n"
   ]
  },
  {
   "cell_type": "code",
   "execution_count": 60,
   "metadata": {},
   "outputs": [
    {
     "name": "stdout",
     "output_type": "stream",
     "text": [
      "111/111 [==============================] - 137s 1s/step\n"
     ]
    }
   ],
   "source": [
    "import pandas as pd\n",
    "y_pred = model.predict(images, verbose=1)\n",
    "y_pred = np.argmax(y_pred, axis=1)\n",
    "ids = np.linspace(0, y_pred.shape[0])"
   ]
  },
  {
   "cell_type": "code",
   "execution_count": 61,
   "metadata": {},
   "outputs": [],
   "source": [
    "ids = range(y_pred.shape[0])"
   ]
  },
  {
   "cell_type": "code",
   "execution_count": 62,
   "metadata": {},
   "outputs": [],
   "source": [
    "mapping_file = {\n",
    "    0: \"1\",\n",
    "    1: \"2\",\n",
    "    2: \"3\"\n",
    "}"
   ]
  },
  {
   "cell_type": "code",
   "execution_count": 63,
   "metadata": {},
   "outputs": [],
   "source": [
    "df = pd.DataFrame(columns=[\"id\", \"target\"], dtype=\"uint16\")\n",
    "df[\"id\"] = ids\n",
    "df[\"target\"] = y_pred"
   ]
  },
  {
   "cell_type": "code",
   "execution_count": 64,
   "metadata": {},
   "outputs": [],
   "source": [
    "df[\"target\"] = df[\"target\"].map(mapping_file)"
   ]
  },
  {
   "cell_type": "code",
   "execution_count": 65,
   "metadata": {},
   "outputs": [
    {
     "data": {
      "text/plain": [
       "array(['2', '1', '3'], dtype=object)"
      ]
     },
     "execution_count": 65,
     "metadata": {},
     "output_type": "execute_result"
    }
   ],
   "source": [
    "df[\"target\"].unique()"
   ]
  },
  {
   "cell_type": "code",
   "execution_count": 66,
   "metadata": {},
   "outputs": [],
   "source": [
    "df.to_csv(\"./test_II.csv\", index=False)"
   ]
  },
  {
   "cell_type": "code",
   "execution_count": 68,
   "metadata": {},
   "outputs": [
    {
     "data": {
      "text/plain": [
       "[<keras.engine.input_layer.InputLayer at 0x29f0bb821c8>,\n",
       " <keras.layers.reshaping.zero_padding2d.ZeroPadding2D at 0x29f0bb82bc8>,\n",
       " <keras.layers.convolutional.conv2d.Conv2D at 0x29f0bb85348>,\n",
       " <keras.layers.reshaping.zero_padding2d.ZeroPadding2D at 0x29f0bb85d88>,\n",
       " <keras.layers.pooling.max_pooling2d.MaxPooling2D at 0x29f0bb874c8>,\n",
       " <keras.layers.normalization.batch_normalization.BatchNormalization at 0x29f0bb87c88>,\n",
       " <keras.layers.core.activation.Activation at 0x29f0bb89508>,\n",
       " <keras.layers.convolutional.conv2d.Conv2D at 0x29f0bb89e48>,\n",
       " <keras.layers.normalization.batch_normalization.BatchNormalization at 0x29f0bb8c8c8>,\n",
       " <keras.layers.core.activation.Activation at 0x29f0bb8e448>,\n",
       " <keras.layers.reshaping.zero_padding2d.ZeroPadding2D at 0x29f0bb8eac8>,\n",
       " <keras.layers.convolutional.conv2d.Conv2D at 0x29f0bb90208>,\n",
       " <keras.layers.normalization.batch_normalization.BatchNormalization at 0x29f0bb90c48>,\n",
       " <keras.layers.core.activation.Activation at 0x29f0bb92788>,\n",
       " <keras.layers.convolutional.conv2d.Conv2D at 0x29f0bb92e48>,\n",
       " <keras.layers.convolutional.conv2d.Conv2D at 0x29f0bb95988>,\n",
       " <keras.layers.merging.add.Add at 0x29f0bb97448>,\n",
       " <keras.layers.normalization.batch_normalization.BatchNormalization at 0x29f0bb97a88>,\n",
       " <keras.layers.core.activation.Activation at 0x29f0bb9b588>,\n",
       " <keras.layers.convolutional.conv2d.Conv2D at 0x29f0bb9bc08>,\n",
       " <keras.layers.normalization.batch_normalization.BatchNormalization at 0x29f0bb9c6c8>,\n",
       " <keras.layers.core.activation.Activation at 0x29f0bb9f1c8>,\n",
       " <keras.layers.reshaping.zero_padding2d.ZeroPadding2D at 0x29f0bb9f888>,\n",
       " <keras.layers.convolutional.conv2d.Conv2D at 0x29f0bb9ff88>,\n",
       " <keras.layers.normalization.batch_normalization.BatchNormalization at 0x29f0bba0a48>,\n",
       " <keras.layers.core.activation.Activation at 0x29f0bba3548>,\n",
       " <keras.layers.convolutional.conv2d.Conv2D at 0x29f0bba3c48>,\n",
       " <keras.layers.merging.add.Add at 0x29f0bba5688>,\n",
       " <keras.layers.normalization.batch_normalization.BatchNormalization at 0x29f0bba5c88>,\n",
       " <keras.layers.core.activation.Activation at 0x29f0bba7748>,\n",
       " <keras.layers.convolutional.conv2d.Conv2D at 0x29f0bba7e48>,\n",
       " <keras.layers.normalization.batch_normalization.BatchNormalization at 0x29f0bbab908>,\n",
       " <keras.layers.core.activation.Activation at 0x29f0bbad408>,\n",
       " <keras.layers.reshaping.zero_padding2d.ZeroPadding2D at 0x29f0bbadac8>,\n",
       " <keras.layers.convolutional.conv2d.Conv2D at 0x29f0bbae248>,\n",
       " <keras.layers.normalization.batch_normalization.BatchNormalization at 0x29f0bbaecc8>,\n",
       " <keras.layers.core.activation.Activation at 0x29f0bbb17c8>,\n",
       " <keras.layers.pooling.max_pooling2d.MaxPooling2D at 0x29f0bbb1e48>,\n",
       " <keras.layers.convolutional.conv2d.Conv2D at 0x29f0bbb4708>,\n",
       " <keras.layers.merging.add.Add at 0x29f0bbb61c8>,\n",
       " <keras.layers.normalization.batch_normalization.BatchNormalization at 0x29f0bbb6808>,\n",
       " <keras.layers.core.activation.Activation at 0x29f0bbb9308>,\n",
       " <keras.layers.convolutional.conv2d.Conv2D at 0x29f0bbb9a08>,\n",
       " <keras.layers.normalization.batch_normalization.BatchNormalization at 0x29f0bbbc4c8>,\n",
       " <keras.layers.core.activation.Activation at 0x29f0bbbcf48>,\n",
       " <keras.layers.reshaping.zero_padding2d.ZeroPadding2D at 0x29f0bbbe648>,\n",
       " <keras.layers.convolutional.conv2d.Conv2D at 0x29f0bbbed88>,\n",
       " <keras.layers.normalization.batch_normalization.BatchNormalization at 0x29f0bbc0848>,\n",
       " <keras.layers.core.activation.Activation at 0x29f0bbc3348>,\n",
       " <keras.layers.convolutional.conv2d.Conv2D at 0x29f0bbc3a08>,\n",
       " <keras.layers.convolutional.conv2d.Conv2D at 0x29f0bbc5548>,\n",
       " <keras.layers.merging.add.Add at 0x29f0bbc5f88>,\n",
       " <keras.layers.normalization.batch_normalization.BatchNormalization at 0x29f0bbc6648>,\n",
       " <keras.layers.core.activation.Activation at 0x29f0bbc9148>,\n",
       " <keras.layers.convolutional.conv2d.Conv2D at 0x29f0bbc9848>,\n",
       " <keras.layers.normalization.batch_normalization.BatchNormalization at 0x29f0bbcc288>,\n",
       " <keras.layers.core.activation.Activation at 0x29f0bbccd48>,\n",
       " <keras.layers.reshaping.zero_padding2d.ZeroPadding2D at 0x29f0bbce408>,\n",
       " <keras.layers.convolutional.conv2d.Conv2D at 0x29f0bbceb48>,\n",
       " <keras.layers.normalization.batch_normalization.BatchNormalization at 0x29f0bbd2608>,\n",
       " <keras.layers.core.activation.Activation at 0x29f0bbd3108>,\n",
       " <keras.layers.convolutional.conv2d.Conv2D at 0x29f0bbd3808>,\n",
       " <keras.layers.merging.add.Add at 0x29f0bbd62c8>,\n",
       " <keras.layers.normalization.batch_normalization.BatchNormalization at 0x29f0bbd6908>,\n",
       " <keras.layers.core.activation.Activation at 0x29f0bbd83c8>,\n",
       " <keras.layers.convolutional.conv2d.Conv2D at 0x29f0bbd8ac8>,\n",
       " <keras.layers.normalization.batch_normalization.BatchNormalization at 0x29f0bbdc588>,\n",
       " <keras.layers.core.activation.Activation at 0x29f0bbdd048>,\n",
       " <keras.layers.reshaping.zero_padding2d.ZeroPadding2D at 0x29f0bbdd748>,\n",
       " <keras.layers.convolutional.conv2d.Conv2D at 0x29f0bbdde88>,\n",
       " <keras.layers.normalization.batch_normalization.BatchNormalization at 0x29f0bbe0948>,\n",
       " <keras.layers.core.activation.Activation at 0x29f0bbe2448>,\n",
       " <keras.layers.convolutional.conv2d.Conv2D at 0x29f0bbe2b48>,\n",
       " <keras.layers.merging.add.Add at 0x29f0bbe4608>,\n",
       " <keras.layers.normalization.batch_normalization.BatchNormalization at 0x29f0bbe4c48>,\n",
       " <keras.layers.core.activation.Activation at 0x29f0bbe6748>,\n",
       " <keras.layers.convolutional.conv2d.Conv2D at 0x29f0bbe6e08>,\n",
       " <keras.layers.normalization.batch_normalization.BatchNormalization at 0x29f0bbe98c8>,\n",
       " <keras.layers.core.activation.Activation at 0x29f0bbec3c8>,\n",
       " <keras.layers.reshaping.zero_padding2d.ZeroPadding2D at 0x29f0bbeca88>,\n",
       " <keras.layers.convolutional.conv2d.Conv2D at 0x29f0bbee208>,\n",
       " <keras.layers.normalization.batch_normalization.BatchNormalization at 0x29f0bbeec88>,\n",
       " <keras.layers.core.activation.Activation at 0x29f0bbf2788>,\n",
       " <keras.layers.pooling.max_pooling2d.MaxPooling2D at 0x29f0bbf2e08>,\n",
       " <keras.layers.convolutional.conv2d.Conv2D at 0x29f0bbf46c8>,\n",
       " <keras.layers.merging.add.Add at 0x29f0bbf6188>,\n",
       " <keras.layers.normalization.batch_normalization.BatchNormalization at 0x29f0bbf67c8>,\n",
       " <keras.layers.core.activation.Activation at 0x29f0bbf9308>,\n",
       " <keras.layers.convolutional.conv2d.Conv2D at 0x29f0bbf9988>,\n",
       " <keras.layers.normalization.batch_normalization.BatchNormalization at 0x29f0bbfa448>,\n",
       " <keras.layers.core.activation.Activation at 0x29f0bbfaf88>,\n",
       " <keras.layers.reshaping.zero_padding2d.ZeroPadding2D at 0x29f0bbfe608>,\n",
       " <keras.layers.convolutional.conv2d.Conv2D at 0x29f0bbfed08>,\n",
       " <keras.layers.normalization.batch_normalization.BatchNormalization at 0x29f0bc007c8>,\n",
       " <keras.layers.core.activation.Activation at 0x29f0bc022c8>,\n",
       " <keras.layers.convolutional.conv2d.Conv2D at 0x29f0bc029c8>,\n",
       " <keras.layers.convolutional.conv2d.Conv2D at 0x29f0bc054c8>,\n",
       " <keras.layers.merging.add.Add at 0x29f0bc05f48>,\n",
       " <keras.layers.normalization.batch_normalization.BatchNormalization at 0x29f0bc045c8>,\n",
       " <keras.layers.core.activation.Activation at 0x29f0bc090c8>,\n",
       " <keras.layers.convolutional.conv2d.Conv2D at 0x29f0bc097c8>,\n",
       " <keras.layers.normalization.batch_normalization.BatchNormalization at 0x29f0bc0c288>,\n",
       " <keras.layers.core.activation.Activation at 0x29f0bc0cd48>,\n",
       " <keras.layers.reshaping.zero_padding2d.ZeroPadding2D at 0x29f0bc0e448>,\n",
       " <keras.layers.convolutional.conv2d.Conv2D at 0x29f0bc0eb88>,\n",
       " <keras.layers.normalization.batch_normalization.BatchNormalization at 0x29f0bc12648>,\n",
       " <keras.layers.core.activation.Activation at 0x29f0bc14148>,\n",
       " <keras.layers.convolutional.conv2d.Conv2D at 0x29f0bc14848>,\n",
       " <keras.layers.merging.add.Add at 0x29f0bc18308>,\n",
       " <keras.layers.normalization.batch_normalization.BatchNormalization at 0x29f0bc18948>,\n",
       " <keras.layers.core.activation.Activation at 0x29f0bc19448>,\n",
       " <keras.layers.convolutional.conv2d.Conv2D at 0x29f0bc19b48>,\n",
       " <keras.layers.normalization.batch_normalization.BatchNormalization at 0x29f0bc1c608>,\n",
       " <keras.layers.core.activation.Activation at 0x29f0bc1f108>,\n",
       " <keras.layers.reshaping.zero_padding2d.ZeroPadding2D at 0x29f0bc1f7c8>,\n",
       " <keras.layers.convolutional.conv2d.Conv2D at 0x29f0bc1ff08>,\n",
       " <keras.layers.normalization.batch_normalization.BatchNormalization at 0x29f0bc229c8>,\n",
       " <keras.layers.core.activation.Activation at 0x29f0bc244c8>,\n",
       " <keras.layers.convolutional.conv2d.Conv2D at 0x29f0bc24bc8>,\n",
       " <keras.layers.merging.add.Add at 0x29f0bc27688>,\n",
       " <keras.layers.normalization.batch_normalization.BatchNormalization at 0x29f0bc27cc8>,\n",
       " <keras.layers.core.activation.Activation at 0x29f0bc287c8>,\n",
       " <keras.layers.convolutional.conv2d.Conv2D at 0x29f0bc28ec8>,\n",
       " <keras.layers.normalization.batch_normalization.BatchNormalization at 0x29f0bc2b948>,\n",
       " <keras.layers.core.activation.Activation at 0x29f0bc2e448>,\n",
       " <keras.layers.reshaping.zero_padding2d.ZeroPadding2D at 0x29f0bc2eb08>,\n",
       " <keras.layers.convolutional.conv2d.Conv2D at 0x29f0bc30288>,\n",
       " <keras.layers.normalization.batch_normalization.BatchNormalization at 0x29f0bc30d08>,\n",
       " <keras.layers.core.activation.Activation at 0x29f0bc33808>,\n",
       " <keras.layers.convolutional.conv2d.Conv2D at 0x29f0bc33f08>,\n",
       " <keras.layers.merging.add.Add at 0x29f0bc359c8>,\n",
       " <keras.layers.normalization.batch_normalization.BatchNormalization at 0x29f0bc37088>,\n",
       " <keras.layers.core.activation.Activation at 0x29f0bc37b08>,\n",
       " <keras.layers.convolutional.conv2d.Conv2D at 0x29f0bc3b248>,\n",
       " <keras.layers.normalization.batch_normalization.BatchNormalization at 0x29f0bc3bcc8>,\n",
       " <keras.layers.core.activation.Activation at 0x29f0bc3e7c8>,\n",
       " <keras.layers.reshaping.zero_padding2d.ZeroPadding2D at 0x29f0bc3ee88>,\n",
       " <keras.layers.convolutional.conv2d.Conv2D at 0x29f0bc3f608>,\n",
       " <keras.layers.normalization.batch_normalization.BatchNormalization at 0x29f0bc430c8>,\n",
       " <keras.layers.core.activation.Activation at 0x29f0bc43b88>,\n",
       " <keras.layers.convolutional.conv2d.Conv2D at 0x29f0bc442c8>,\n",
       " <keras.layers.merging.add.Add at 0x29f0bc44d48>,\n",
       " <keras.layers.normalization.batch_normalization.BatchNormalization at 0x29f0bc473c8>,\n",
       " <keras.layers.core.activation.Activation at 0x29f0bc47e08>,\n",
       " <keras.layers.convolutional.conv2d.Conv2D at 0x29f0bc49548>,\n",
       " <keras.layers.normalization.batch_normalization.BatchNormalization at 0x29f0bc49f88>,\n",
       " <keras.layers.core.activation.Activation at 0x29f0bc4dac8>,\n",
       " <keras.layers.reshaping.zero_padding2d.ZeroPadding2D at 0x29f0bc4f1c8>,\n",
       " <keras.layers.convolutional.conv2d.Conv2D at 0x29f0bc4f908>,\n",
       " <keras.layers.normalization.batch_normalization.BatchNormalization at 0x29f0bc533c8>,\n",
       " <keras.layers.core.activation.Activation at 0x29f0bc53e88>,\n",
       " <keras.layers.pooling.max_pooling2d.MaxPooling2D at 0x29f0bc56548>,\n",
       " <keras.layers.convolutional.conv2d.Conv2D at 0x29f0bc56dc8>,\n",
       " <keras.layers.merging.add.Add at 0x29f0bc58888>,\n",
       " <keras.layers.normalization.batch_normalization.BatchNormalization at 0x29f0bc58ec8>,\n",
       " <keras.layers.core.activation.Activation at 0x29f0bc5a9c8>,\n",
       " <keras.layers.convolutional.conv2d.Conv2D at 0x29f0bc5c108>,\n",
       " <keras.layers.normalization.batch_normalization.BatchNormalization at 0x29f0bc5cb88>,\n",
       " <keras.layers.core.activation.Activation at 0x29f0bc5e688>,\n",
       " <keras.layers.reshaping.zero_padding2d.ZeroPadding2D at 0x29f0bc5ed48>,\n",
       " <keras.layers.convolutional.conv2d.Conv2D at 0x29f0bc624c8>,\n",
       " <keras.layers.normalization.batch_normalization.BatchNormalization at 0x29f0bc62f48>,\n",
       " <keras.layers.core.activation.Activation at 0x29f0bc64a48>,\n",
       " <keras.layers.convolutional.conv2d.Conv2D at 0x29f0bc67188>,\n",
       " <keras.layers.convolutional.conv2d.Conv2D at 0x29f0bc67c88>,\n",
       " <keras.layers.merging.add.Add at 0x29f0bc6a748>,\n",
       " <keras.layers.normalization.batch_normalization.BatchNormalization at 0x29f0bc6ad88>,\n",
       " <keras.layers.core.activation.Activation at 0x29f0bc6d888>,\n",
       " <keras.layers.convolutional.conv2d.Conv2D at 0x29f0bc6df88>,\n",
       " <keras.layers.normalization.batch_normalization.BatchNormalization at 0x29f0bc6ea48>,\n",
       " <keras.layers.core.activation.Activation at 0x29f0bc71508>,\n",
       " <keras.layers.reshaping.zero_padding2d.ZeroPadding2D at 0x29f0bc71bc8>,\n",
       " <keras.layers.convolutional.conv2d.Conv2D at 0x29f0bc73348>,\n",
       " <keras.layers.normalization.batch_normalization.BatchNormalization at 0x29f0bc73dc8>,\n",
       " <keras.layers.core.activation.Activation at 0x29f0bc768c8>,\n",
       " <keras.layers.convolutional.conv2d.Conv2D at 0x29f0bc76fc8>,\n",
       " <keras.layers.merging.add.Add at 0x29f0bc79a88>,\n",
       " <keras.layers.normalization.batch_normalization.BatchNormalization at 0x29f0bc7b108>,\n",
       " <keras.layers.core.activation.Activation at 0x29f0bc7bbc8>,\n",
       " <keras.layers.convolutional.conv2d.Conv2D at 0x29f0bc7d308>,\n",
       " <keras.layers.normalization.batch_normalization.BatchNormalization at 0x29f0bc7dd88>,\n",
       " <keras.layers.core.activation.Activation at 0x29f0bc81888>,\n",
       " <keras.layers.reshaping.zero_padding2d.ZeroPadding2D at 0x29f0bc81f48>,\n",
       " <keras.layers.convolutional.conv2d.Conv2D at 0x29f0bc836c8>,\n",
       " <keras.layers.normalization.batch_normalization.BatchNormalization at 0x29f0bc86188>,\n",
       " <keras.layers.core.activation.Activation at 0x29f0bc86c48>,\n",
       " <keras.layers.convolutional.conv2d.Conv2D at 0x29f0bc88388>,\n",
       " <keras.layers.merging.add.Add at 0x29f0bc88e08>,\n",
       " <keras.layers.normalization.batch_normalization.BatchNormalization at 0x29f0bc8b488>,\n",
       " <keras.layers.core.activation.Activation at 0x29f0bc8bf48>,\n",
       " <keras.layers.reshaping.flatten.Flatten at 0x29f0bc8d688>]"
      ]
     },
     "execution_count": 68,
     "metadata": {},
     "output_type": "execute_result"
    }
   ],
   "source": [
    "model.layers[0:191]"
   ]
  },
  {
   "cell_type": "code",
   "execution_count": 79,
   "metadata": {},
   "outputs": [],
   "source": [
    "!winget install graphviz"
   ]
  },
  {
   "cell_type": "code",
   "execution_count": 7,
   "metadata": {},
   "outputs": [],
   "source": [
    "from keras.models import Model\n",
    "model_inp = model.layers[191].input\n",
    "# model_out = model.layers[-1]\n",
    "model_ed = Model(inputs=model_inp, outputs=model.output)"
   ]
  },
  {
   "cell_type": "code",
   "execution_count": 8,
   "metadata": {},
   "outputs": [
    {
     "data": {
      "image/png": "[encoded data removed]",
      "text/plain": [
       "<IPython.core.display.Image object>"
      ]
     },
     "execution_count": 8,
     "metadata": {},
     "output_type": "execute_result"
    }
   ],
   "source": [
    "from keras.utils import plot_model\n",
    "\n",
    "plot_model(model_ed, to_file=\"./model.png\")"
   ]
  }
 ],
 "metadata": {
  "kernelspec": {
   "display_name": "base",
   "language": "python",
   "name": "python3"
  },
  "language_info": {
   "codemirror_mode": {
    "name": "ipython",
    "version": 3
   },
   "file_extension": ".py",
   "mimetype": "text/x-python",
   "name": "python",
   "nbconvert_exporter": "python",
   "pygments_lexer": "ipython3",
   "version": "3.8.4"
  },
  "orig_nbformat": 4
 },
 "nbformat": 4,
 "nbformat_minor": 2
}
